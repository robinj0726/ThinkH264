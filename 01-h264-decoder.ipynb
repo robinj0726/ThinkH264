{
 "cells": [
  {
   "cell_type": "markdown",
   "metadata": {},
   "source": []
  },
  {
   "cell_type": "code",
   "execution_count": 1,
   "metadata": {},
   "outputs": [],
   "source": [
    "from bitstring import BitArray, BitStream\n",
    "from h264bits import H264Bits"
   ]
  },
  {
   "cell_type": "code",
   "execution_count": 13,
   "metadata": {},
   "outputs": [],
   "source": [
    "from nalsps import SPS\n",
    "from nalpps import PPS\n",
    "from nalslice import Slice"
   ]
  },
  {
   "cell_type": "code",
   "execution_count": 2,
   "metadata": {},
   "outputs": [],
   "source": [
    "input_file = open(\"test.264\", \"rb\")\n",
    "nalus_ba = list(BitArray(input_file).split('0x000001', bytealigned=True))[1:]"
   ]
  },
  {
   "cell_type": "code",
   "execution_count": 14,
   "metadata": {},
   "outputs": [],
   "source": [
    "sps = None\n",
    "ppss = []\n",
    "slices = []"
   ]
  },
  {
   "cell_type": "code",
   "execution_count": 3,
   "metadata": {},
   "outputs": [
    {
     "name": "stdout",
     "output_type": "stream",
     "text": [
      "0x00000167640028acd182c4e400\n",
      "{'forbidden_zero_bit': 0, 'nal_ref_idc': 3, 'nal_unit_type': 7}\n",
      "0x00000168e94a38b000\n",
      "{'forbidden_zero_bit': 0, 'nal_ref_idc': 3, 'nal_unit_type': 8}\n",
      "0x000001685a52de2c00\n",
      "{'forbidden_zero_bit': 0, 'nal_ref_idc': 3, 'nal_unit_type': 8}\n",
      "0x000001687a52ee2c00\n",
      "{'forbidden_zero_bit': 0, 'nal_ref_idc': 3, 'nal_unit_type': 8}\n",
      "0x000001658884013fea9ec2cecbaa919dadf9de624772b20dcf7c4132264f663261a1d036ed43718133e5cb93b219306306ba3284d854cfb5dd10d07b6028516da42572c04e58a03ee73b6f348e461f89e608d0941a47785eca67b97e5b38227a624d28e88098b062c099393d9353a0667f7852bcb7e727b587798be96d...\n",
      "{'forbidden_zero_bit': 0, 'nal_ref_idc': 3, 'nal_unit_type': 5}\n",
      "0x000001419a24c93fe8a7caeab8fdaf05736d2bba35e76145d182df4f9f85b98689e72e9653194c000ea9a62d7190958fb12df83301e283550e29c50791ce74bc5fd1ae6eee0eb9048f2ba0fe3df5053631a822a04e18dae5c57a0be040cd3a8455f48905fe2742e3508af99eeff4cee3a40338d3ea610c98ab0862ae2d...\n",
      "{'forbidden_zero_bit': 0, 'nal_ref_idc': 2, 'nal_unit_type': 1}\n",
      "0x000001019e42d488de7ebc275568a92709c935c794098b6ac577e9592d12ce58fe3621fc1a3de6fd795e0ebedecde3ee3eeac6b91f7b0f21bc65219f32d864983b67a04dd3b0621c0e95b10ac25732e5507b4c8e8b6122092b07a857ffa0d4b037453528ac42082fc4cc86dcb2690dd8863b1bd1de6e958be623c40e0a...\n",
      "{'forbidden_zero_bit': 0, 'nal_ref_idc': 0, 'nal_unit_type': 1}\n"
     ]
    }
   ],
   "source": [
    "for nalu_ba in nalus_ba:\n",
    "    print(nalu_ba)\n",
    "    # enulation_prevention_three_byte\n",
    "    nalu_ba.replace('0x000003', '0x0000', bytealigned=True)\n",
    "    nalu_bs = BitStream(nalu_ba)\n",
    "    nb = H264Bits(nalu_bs)\n",
    "    params = {\"forbidden_zero_bit\" : nb.f(1),\n",
    "              \"nal_ref_idc\" : nb.u(2),\n",
    "              \"nal_unit_type\" : nb.u(5)}\n",
    "    print(params)\n",
    "    if params[\"nal_unit_type\"] == 7: # SPS\n",
    "        sps = SPS(nb, params = params)\n",
    "        # dump_params(sps, \"sps.json\")\n",
    "    elif params[\"nal_unit_type\"] == 8: # PPS\n",
    "        pps = PPS(nb, sps = sps, params = params)\n",
    "        ppss.append(pps)\n",
    "        fname = \"pps_\" + str(len(ppss)) + \".json\"\n",
    "        # dump_params(pps, fname)\n",
    "    elif params[\"nal_unit_type\"] in [1, 5]: # Slice\n",
    "        slice = Slice(nb, sps = sps, ppss = ppss, params = params)\n",
    "        # decode_slice(slice)\n",
    "        break\n",
    "        slices.append(slice)\n",
    "        dump_mbs(slice, \"slice_\" + str(len(slices)) + \"_mb.json\")\n",
    "        fname = \"slice_\" + str(len(slices)) + \".json\"\n",
    "        dump_params(slice, fname)\n",
    "    else:\n",
    "        print(\"Unknown Slice type, ignore...\")\n"
   ]
  },
  {
   "cell_type": "markdown",
   "metadata": {},
   "source": [
    "The `forbidden_zero_bit` is always set to zero and is used to check for bit errors or synchronization issues. If this bit is not zero, it indicates an error in the stream."
   ]
  },
  {
   "cell_type": "markdown",
   "metadata": {},
   "source": [
    "The `nal_ref_idc` field in the NALU (Network Abstraction Layer Unit) header in H.264 video coding is a 2-bit field. Therefore, it can take on the following four possible values:\n",
    "\n",
    "- 0: The NALU does not contain a sequence or picture parameter set, slice of a reference picture, or a slice data partition of a reference picture.\n",
    "- 1: The NALU contains a slice of a reference picture or a slice data partition of a reference picture, but not a sequence or picture parameter set.\n",
    "- 2: The NALU contains a sequence or picture parameter set, but not a slice of a reference picture or a slice data partition of a reference picture.\n",
    "- 3: The NALU contains a sequence or picture parameter set, a slice of a reference picture, or a slice data partition of a reference picture.\n",
    "\n",
    "These values are used to indicate the importance of the NALU in terms of error recovery and the decoding process. Higher values indicate higher importance."
   ]
  },
  {
   "cell_type": "markdown",
   "metadata": {},
   "source": [
    "In H.264 video coding, the `nal_unit_type` field in the NALU (Network Abstraction Layer Unit) header specifies the type of RBSP (Raw Byte Sequence Payload) data structure contained in the NALU. Here are the possible NAL unit types:\n",
    "\n",
    "- 0: Unspecified\n",
    "- 1: Coded slice of a non-IDR picture\n",
    "- 2: Coded slice data partition A\n",
    "- 3: Coded slice data partition B\n",
    "- 4: Coded slice data partition C\n",
    "- 5: Coded slice of an IDR picture\n",
    "- 6: Supplemental enhancement information (SEI)\n",
    "- 7: Sequence parameter set\n",
    "- 8: Picture parameter set\n",
    "- 9: Access unit delimiter\n",
    "- 10: End of sequence\n",
    "- 11: End of stream\n",
    "- 12: Filler data\n",
    "- 13: Sequence parameter set extension\n",
    "- 14: Prefix NAL unit\n",
    "- 15: Subset sequence parameter set\n",
    "- 16-18: Reserved\n",
    "- 19: Coded slice of an auxiliary coded picture without partitioning\n",
    "- 20: Coded slice extension\n",
    "- 21: Coded slice extension for depth view components\n",
    "- 22-23: Reserved\n",
    "- 24: STAP-A Single-time aggregation packet\n",
    "- 25: STAP-B Single-time aggregation packet\n",
    "- 26: MTAP16 Multi-time aggregation packet\n",
    "- 27: MTAP24 Multi-time aggregation packet\n",
    "- 28: FU-A Fragmentation unit\n",
    "- 29: FU-B Fragmentation unit\n",
    "- 30-31: Unspecified\n",
    "\n",
    "Each of these types corresponds to a different kind of data or operation in the H.264 video stream."
   ]
  },
  {
   "cell_type": "code",
   "execution_count": null,
   "metadata": {},
   "outputs": [],
   "source": [
    "print(sps)"
   ]
  },
  {
   "cell_type": "code",
   "execution_count": 9,
   "metadata": {},
   "outputs": [
    {
     "name": "stdout",
     "output_type": "stream",
     "text": [
      "0x00000167640028acd182c4e400\n",
      "{'forbidden_zero_bit': 0, 'nal_ref_idc': 3, 'nal_unit_type': 7}\n"
     ]
    }
   ],
   "source": [
    "# SPS\n",
    "nalu_ba = nalus_ba[0]\n",
    "print(nalu_ba)\n",
    "nalu_ba.replace('0x000003', '0x0000', bytealigned=True)\n",
    "nalu_bs = BitStream(nalu_ba)\n",
    "nb = H264Bits(nalu_bs)\n",
    "params = {\"forbidden_zero_bit\" : nb.f(1),\n",
    "            \"nal_ref_idc\" : nb.u(2),\n",
    "            \"nal_unit_type\" : nb.u(5)}\n",
    "print(params)"
   ]
  },
  {
   "cell_type": "code",
   "execution_count": 10,
   "metadata": {},
   "outputs": [
    {
     "name": "stdout",
     "output_type": "stream",
     "text": [
      "0x000001658884013fea9ec2cecbaa919dadf9de624772b20dcf7c4132264f663261a1d036ed43718133e5cb93b219306306ba3284d854cfb5dd10d07b6028516da42572c04e58a03ee73b6f348e461f89e608d0941a47785eca67b97e5b38227a624d28e88098b062c099393d9353a0667f7852bcb7e727b587798be96d...\n",
      "{'forbidden_zero_bit': 0, 'nal_ref_idc': 3, 'nal_unit_type': 5}\n"
     ]
    }
   ],
   "source": [
    "# IDR\n",
    "nalu_ba = nalus_ba[4]\n",
    "print(nalu_ba)\n",
    "nalu_ba.replace('0x000003', '0x0000', bytealigned=True)\n",
    "nalu_bs = BitStream(nalu_ba)\n",
    "nb = H264Bits(nalu_bs)\n",
    "params = {\"forbidden_zero_bit\" : nb.f(1),\n",
    "            \"nal_ref_idc\" : nb.u(2),\n",
    "            \"nal_unit_type\" : nb.u(5)}\n",
    "print(params)"
   ]
  }
 ],
 "metadata": {
  "kernelspec": {
   "display_name": "thinkdsp",
   "language": "python",
   "name": "python3"
  },
  "language_info": {
   "codemirror_mode": {
    "name": "ipython",
    "version": 3
   },
   "file_extension": ".py",
   "mimetype": "text/x-python",
   "name": "python",
   "nbconvert_exporter": "python",
   "pygments_lexer": "ipython3",
   "version": "3.10.14"
  }
 },
 "nbformat": 4,
 "nbformat_minor": 2
}
