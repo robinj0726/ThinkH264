{
 "cells": [
  {
   "cell_type": "markdown",
   "metadata": {},
   "source": []
  },
  {
   "cell_type": "code",
   "execution_count": 1,
   "metadata": {},
   "outputs": [],
   "source": [
    "from bitstring import BitArray, BitStream\n",
    "from h264bits import H264Bits"
   ]
  },
  {
   "cell_type": "code",
   "execution_count": 2,
   "metadata": {},
   "outputs": [],
   "source": [
    "from nalsps import SPS\n",
    "from nalpps import PPS\n",
    "from nalslice import Slice"
   ]
  },
  {
   "cell_type": "code",
   "execution_count": 3,
   "metadata": {},
   "outputs": [],
   "source": [
    "input_file = open(\"data/test.264\", \"rb\")\n",
    "nalus_ba = list(BitArray(input_file).split('0x000001', bytealigned=True))[1:]"
   ]
  },
  {
   "cell_type": "code",
   "execution_count": 4,
   "metadata": {},
   "outputs": [],
   "source": [
    "sps = None\n",
    "ppss = []\n",
    "slices = []"
   ]
  },
  {
   "cell_type": "code",
   "execution_count": 5,
   "metadata": {},
   "outputs": [
    {
     "name": "stdout",
     "output_type": "stream",
     "text": [
      "0x00000167640028acd182c4e400\n",
      "{'forbidden_zero_bit': 0, 'nal_ref_idc': 3, 'nal_unit_type': 7}\n"
     ]
    },
    {
     "ename": "NameError",
     "evalue": "sps:26 not impl",
     "output_type": "error",
     "traceback": [
      "\u001b[1;31m---------------------------------------------------------------------------\u001b[0m",
      "\u001b[1;31mNameError\u001b[0m                                 Traceback (most recent call last)",
      "Cell \u001b[1;32mIn[5], line 12\u001b[0m\n\u001b[0;32m     10\u001b[0m \u001b[38;5;28mprint\u001b[39m(params)\n\u001b[0;32m     11\u001b[0m \u001b[38;5;28;01mif\u001b[39;00m params[\u001b[38;5;124m\"\u001b[39m\u001b[38;5;124mnal_unit_type\u001b[39m\u001b[38;5;124m\"\u001b[39m] \u001b[38;5;241m==\u001b[39m \u001b[38;5;241m7\u001b[39m: \u001b[38;5;66;03m# SPS\u001b[39;00m\n\u001b[1;32m---> 12\u001b[0m     sps \u001b[38;5;241m=\u001b[39m \u001b[43mSPS\u001b[49m\u001b[43m(\u001b[49m\u001b[43mnb\u001b[49m\u001b[43m,\u001b[49m\u001b[43m \u001b[49m\u001b[43mparams\u001b[49m\u001b[43m \u001b[49m\u001b[38;5;241;43m=\u001b[39;49m\u001b[43m \u001b[49m\u001b[43mparams\u001b[49m\u001b[43m)\u001b[49m\n\u001b[0;32m     13\u001b[0m     \u001b[38;5;66;03m# dump_params(sps, \"sps.json\")\u001b[39;00m\n\u001b[0;32m     14\u001b[0m \u001b[38;5;28;01melif\u001b[39;00m params[\u001b[38;5;124m\"\u001b[39m\u001b[38;5;124mnal_unit_type\u001b[39m\u001b[38;5;124m\"\u001b[39m] \u001b[38;5;241m==\u001b[39m \u001b[38;5;241m8\u001b[39m: \u001b[38;5;66;03m# PPS\u001b[39;00m\n",
      "File \u001b[1;32mc:\\Users\\robin\\Documents\\GitHub\\thinkH264\\nalsps.py:10\u001b[0m, in \u001b[0;36mSPS.__init__\u001b[1;34m(self, bits, params)\u001b[0m\n\u001b[0;32m      8\u001b[0m \u001b[38;5;28;01mfor\u001b[39;00m k \u001b[38;5;129;01min\u001b[39;00m params:\n\u001b[0;32m      9\u001b[0m     \u001b[38;5;28mself\u001b[39m\u001b[38;5;241m.\u001b[39m\u001b[38;5;18m__dict__\u001b[39m[k] \u001b[38;5;241m=\u001b[39m params[k]\n\u001b[1;32m---> 10\u001b[0m \u001b[38;5;28;43mself\u001b[39;49m\u001b[38;5;241;43m.\u001b[39;49m\u001b[43mparse\u001b[49m\u001b[43m(\u001b[49m\u001b[43m)\u001b[49m\n",
      "File \u001b[1;32mc:\\Users\\robin\\Documents\\GitHub\\thinkH264\\nalsps.py:21\u001b[0m, in \u001b[0;36mSPS.parse\u001b[1;34m(self)\u001b[0m\n\u001b[0;32m     20\u001b[0m \u001b[38;5;28;01mdef\u001b[39;00m \u001b[38;5;21mparse\u001b[39m(\u001b[38;5;28mself\u001b[39m):\n\u001b[1;32m---> 21\u001b[0m     \u001b[38;5;28;43mself\u001b[39;49m\u001b[38;5;241;43m.\u001b[39;49m\u001b[43mseq_parameter_set_rbsp\u001b[49m\u001b[43m(\u001b[49m\u001b[43m)\u001b[49m\n",
      "File \u001b[1;32mc:\\Users\\robin\\Documents\\GitHub\\thinkH264\\nalsps.py:26\u001b[0m, in \u001b[0;36mSPS.seq_parameter_set_rbsp\u001b[1;34m(self)\u001b[0m\n\u001b[0;32m     25\u001b[0m \u001b[38;5;28;01mdef\u001b[39;00m \u001b[38;5;21mseq_parameter_set_rbsp\u001b[39m(\u001b[38;5;28mself\u001b[39m):\n\u001b[1;32m---> 26\u001b[0m     \u001b[38;5;28;43mself\u001b[39;49m\u001b[38;5;241;43m.\u001b[39;49m\u001b[43mseq_parameter_set_data\u001b[49m\u001b[43m(\u001b[49m\u001b[43m)\u001b[49m\n\u001b[0;32m     27\u001b[0m     \u001b[38;5;28mself\u001b[39m\u001b[38;5;241m.\u001b[39msps_not_present()\n\u001b[0;32m     28\u001b[0m     \u001b[38;5;28mself\u001b[39m\u001b[38;5;241m.\u001b[39mrbsp_trailing_bits()\n",
      "File \u001b[1;32mc:\\Users\\robin\\Documents\\GitHub\\thinkH264\\nalsps.py:42\u001b[0m, in \u001b[0;36mSPS.seq_parameter_set_data\u001b[1;34m(self)\u001b[0m\n\u001b[0;32m     40\u001b[0m \u001b[38;5;28mself\u001b[39m\u001b[38;5;241m.\u001b[39mseq_parameter_set_id \u001b[38;5;241m=\u001b[39m  \u001b[38;5;28mself\u001b[39m\u001b[38;5;241m.\u001b[39mbits\u001b[38;5;241m.\u001b[39mue()\n\u001b[0;32m     41\u001b[0m \u001b[38;5;28;01mif\u001b[39;00m \u001b[38;5;28mself\u001b[39m\u001b[38;5;241m.\u001b[39mprofile_idc \u001b[38;5;241m==\u001b[39m \u001b[38;5;241m100\u001b[39m \u001b[38;5;129;01mor\u001b[39;00m \u001b[38;5;28mself\u001b[39m\u001b[38;5;241m.\u001b[39mprofile_idc \u001b[38;5;241m==\u001b[39m \u001b[38;5;241m110\u001b[39m \u001b[38;5;129;01mor\u001b[39;00m \u001b[38;5;28mself\u001b[39m\u001b[38;5;241m.\u001b[39mprofile_idc \u001b[38;5;241m==\u001b[39m \u001b[38;5;241m122\u001b[39m \u001b[38;5;129;01mor\u001b[39;00m \u001b[38;5;28mself\u001b[39m\u001b[38;5;241m.\u001b[39mprofile_idc \u001b[38;5;241m==\u001b[39m \u001b[38;5;241m244\u001b[39m \u001b[38;5;129;01mor\u001b[39;00m \u001b[38;5;28mself\u001b[39m\u001b[38;5;241m.\u001b[39mprofile_idc \u001b[38;5;241m==\u001b[39m \u001b[38;5;241m44\u001b[39m \u001b[38;5;129;01mor\u001b[39;00m \u001b[38;5;28mself\u001b[39m\u001b[38;5;241m.\u001b[39mprofile_idc \u001b[38;5;241m==\u001b[39m \u001b[38;5;241m83\u001b[39m \u001b[38;5;129;01mor\u001b[39;00m \u001b[38;5;28mself\u001b[39m\u001b[38;5;241m.\u001b[39mprofile_idc \u001b[38;5;241m==\u001b[39m \u001b[38;5;241m86\u001b[39m \u001b[38;5;129;01mor\u001b[39;00m \u001b[38;5;28mself\u001b[39m\u001b[38;5;241m.\u001b[39mprofile_idc \u001b[38;5;241m==\u001b[39m \u001b[38;5;241m118\u001b[39m \u001b[38;5;129;01mor\u001b[39;00m \u001b[38;5;28mself\u001b[39m\u001b[38;5;241m.\u001b[39mprofile_idc \u001b[38;5;241m==\u001b[39m \u001b[38;5;241m128\u001b[39m \u001b[38;5;129;01mor\u001b[39;00m \u001b[38;5;28mself\u001b[39m\u001b[38;5;241m.\u001b[39mprofile_idc \u001b[38;5;241m==\u001b[39m \u001b[38;5;241m138\u001b[39m \u001b[38;5;129;01mor\u001b[39;00m \u001b[38;5;28mself\u001b[39m\u001b[38;5;241m.\u001b[39mprofile_idc \u001b[38;5;241m==\u001b[39m \u001b[38;5;241m139\u001b[39m \u001b[38;5;129;01mor\u001b[39;00m \u001b[38;5;28mself\u001b[39m\u001b[38;5;241m.\u001b[39mprofile_idc \u001b[38;5;241m==\u001b[39m \u001b[38;5;241m134\u001b[39m \u001b[38;5;129;01mor\u001b[39;00m \u001b[38;5;28mself\u001b[39m\u001b[38;5;241m.\u001b[39mprofile_idc \u001b[38;5;241m==\u001b[39m \u001b[38;5;241m135\u001b[39m :\n\u001b[1;32m---> 42\u001b[0m     \u001b[38;5;28;01mraise\u001b[39;00m \u001b[38;5;167;01mNameError\u001b[39;00m(\u001b[38;5;124m'\u001b[39m\u001b[38;5;124msps:26 not impl\u001b[39m\u001b[38;5;124m'\u001b[39m)\n\u001b[0;32m     43\u001b[0m     \u001b[38;5;66;03m# self.chroma_format_idc = self.bits.ue()\u001b[39;00m\n\u001b[0;32m     44\u001b[0m     \u001b[38;5;66;03m# if self.chroma_format_idc == 3 :\u001b[39;00m\n\u001b[0;32m     45\u001b[0m     \u001b[38;5;66;03m#     self.separate_colour_plane_flag = self.bits.u(1)\u001b[39;00m\n\u001b[1;32m   (...)\u001b[0m\n\u001b[0;32m     59\u001b[0m     \u001b[38;5;66;03m#else\u001b[39;00m\n\u001b[0;32m     60\u001b[0m     \u001b[38;5;66;03m#scaling_list( ScalingList8x8[ i − 6 ], 64, UseDefaultScalingMatrix8x8Flag[ i − 6 ] )\u001b[39;00m\n\u001b[0;32m     61\u001b[0m \u001b[38;5;28mself\u001b[39m\u001b[38;5;241m.\u001b[39mlog2_max_frame_num_minus4 \u001b[38;5;241m=\u001b[39m \u001b[38;5;28mself\u001b[39m\u001b[38;5;241m.\u001b[39mbits\u001b[38;5;241m.\u001b[39mue()\n",
      "\u001b[1;31mNameError\u001b[0m: sps:26 not impl"
     ]
    }
   ],
   "source": [
    "for nalu_ba in nalus_ba:\n",
    "    print(nalu_ba)\n",
    "    # enulation_prevention_three_byte\n",
    "    nalu_ba.replace('0x000003', '0x0000', bytealigned=True)\n",
    "    nalu_bs = BitStream(nalu_ba)\n",
    "    nb = H264Bits(nalu_bs)\n",
    "    params = {\"forbidden_zero_bit\" : nb.f(1),\n",
    "              \"nal_ref_idc\" : nb.u(2),\n",
    "              \"nal_unit_type\" : nb.u(5)}\n",
    "    print(params)\n",
    "    if params[\"nal_unit_type\"] == 7: # SPS\n",
    "        sps = SPS(nb, params = params)\n",
    "        # dump_params(sps, \"sps.json\")\n",
    "    elif params[\"nal_unit_type\"] == 8: # PPS\n",
    "        pps = PPS(nb, sps = sps, params = params)\n",
    "        ppss.append(pps)\n",
    "        fname = \"pps_\" + str(len(ppss)) + \".json\"\n",
    "        # dump_params(pps, fname)\n",
    "    elif params[\"nal_unit_type\"] in [1, 5]: # Slice\n",
    "        slice = Slice(nb, sps = sps, ppss = ppss, params = params)\n",
    "        # decode_slice(slice)\n",
    "        break\n",
    "        slices.append(slice)\n",
    "        dump_mbs(slice, \"slice_\" + str(len(slices)) + \"_mb.json\")\n",
    "        fname = \"slice_\" + str(len(slices)) + \".json\"\n",
    "        dump_params(slice, fname)\n",
    "    else:\n",
    "        print(\"Unknown Slice type, ignore...\")\n"
   ]
  },
  {
   "cell_type": "markdown",
   "metadata": {},
   "source": [
    "The `forbidden_zero_bit` is always set to zero and is used to check for bit errors or synchronization issues. If this bit is not zero, it indicates an error in the stream."
   ]
  },
  {
   "cell_type": "markdown",
   "metadata": {},
   "source": [
    "The `nal_ref_idc` field in the NALU (Network Abstraction Layer Unit) header in H.264 video coding is a 2-bit field. Therefore, it can take on the following four possible values:\n",
    "\n",
    "- 0: The NALU does not contain a sequence or picture parameter set, slice of a reference picture, or a slice data partition of a reference picture.\n",
    "- 1: The NALU contains a slice of a reference picture or a slice data partition of a reference picture, but not a sequence or picture parameter set.\n",
    "- 2: The NALU contains a sequence or picture parameter set, but not a slice of a reference picture or a slice data partition of a reference picture.\n",
    "- 3: The NALU contains a sequence or picture parameter set, a slice of a reference picture, or a slice data partition of a reference picture.\n",
    "\n",
    "These values are used to indicate the importance of the NALU in terms of error recovery and the decoding process. Higher values indicate higher importance."
   ]
  },
  {
   "cell_type": "markdown",
   "metadata": {},
   "source": [
    "In H.264 video coding, the `nal_unit_type` field in the NALU (Network Abstraction Layer Unit) header specifies the type of RBSP (Raw Byte Sequence Payload) data structure contained in the NALU. Here are the possible NAL unit types:\n",
    "\n",
    "- 0: Unspecified\n",
    "- 1: Coded slice of a non-IDR picture\n",
    "- 2: Coded slice data partition A\n",
    "- 3: Coded slice data partition B\n",
    "- 4: Coded slice data partition C\n",
    "- 5: Coded slice of an IDR picture\n",
    "- 6: Supplemental enhancement information (SEI)\n",
    "- 7: Sequence parameter set\n",
    "- 8: Picture parameter set\n",
    "- 9: Access unit delimiter\n",
    "- 10: End of sequence\n",
    "- 11: End of stream\n",
    "- 12: Filler data\n",
    "- 13: Sequence parameter set extension\n",
    "- 14: Prefix NAL unit\n",
    "- 15: Subset sequence parameter set\n",
    "- 16-18: Reserved\n",
    "- 19: Coded slice of an auxiliary coded picture without partitioning\n",
    "- 20: Coded slice extension\n",
    "- 21: Coded slice extension for depth view components\n",
    "- 22-23: Reserved\n",
    "- 24: STAP-A Single-time aggregation packet\n",
    "- 25: STAP-B Single-time aggregation packet\n",
    "- 26: MTAP16 Multi-time aggregation packet\n",
    "- 27: MTAP24 Multi-time aggregation packet\n",
    "- 28: FU-A Fragmentation unit\n",
    "- 29: FU-B Fragmentation unit\n",
    "- 30-31: Unspecified\n",
    "\n",
    "Each of these types corresponds to a different kind of data or operation in the H.264 video stream."
   ]
  },
  {
   "cell_type": "code",
   "execution_count": null,
   "metadata": {},
   "outputs": [],
   "source": [
    "print(sps)"
   ]
  },
  {
   "cell_type": "code",
   "execution_count": null,
   "metadata": {},
   "outputs": [
    {
     "name": "stdout",
     "output_type": "stream",
     "text": [
      "0x00000167640028acd182c4e400\n",
      "{'forbidden_zero_bit': 0, 'nal_ref_idc': 3, 'nal_unit_type': 7}\n"
     ]
    }
   ],
   "source": [
    "# SPS\n",
    "nalu_ba = nalus_ba[0]\n",
    "print(nalu_ba)\n",
    "nalu_ba.replace('0x000003', '0x0000', bytealigned=True)\n",
    "nalu_bs = BitStream(nalu_ba)\n",
    "nb = H264Bits(nalu_bs)\n",
    "params = {\"forbidden_zero_bit\" : nb.f(1),\n",
    "            \"nal_ref_idc\" : nb.u(2),\n",
    "            \"nal_unit_type\" : nb.u(5)}\n",
    "print(params)"
   ]
  },
  {
   "cell_type": "code",
   "execution_count": null,
   "metadata": {},
   "outputs": [
    {
     "name": "stdout",
     "output_type": "stream",
     "text": [
      "0x000001658884013fea9ec2cecbaa919dadf9de624772b20dcf7c4132264f663261a1d036ed43718133e5cb93b219306306ba3284d854cfb5dd10d07b6028516da42572c04e58a03ee73b6f348e461f89e608d0941a47785eca67b97e5b38227a624d28e88098b062c099393d9353a0667f7852bcb7e727b587798be96d...\n",
      "{'forbidden_zero_bit': 0, 'nal_ref_idc': 3, 'nal_unit_type': 5}\n"
     ]
    }
   ],
   "source": [
    "# IDR\n",
    "nalu_ba = nalus_ba[4]\n",
    "print(nalu_ba)\n",
    "nalu_ba.replace('0x000003', '0x0000', bytealigned=True)\n",
    "nalu_bs = BitStream(nalu_ba)\n",
    "nb = H264Bits(nalu_bs)\n",
    "params = {\"forbidden_zero_bit\" : nb.f(1),\n",
    "            \"nal_ref_idc\" : nb.u(2),\n",
    "            \"nal_unit_type\" : nb.u(5)}\n",
    "print(params)"
   ]
  }
 ],
 "metadata": {
  "kernelspec": {
   "display_name": "thinkdsp",
   "language": "python",
   "name": "python3"
  },
  "language_info": {
   "codemirror_mode": {
    "name": "ipython",
    "version": 3
   },
   "file_extension": ".py",
   "mimetype": "text/x-python",
   "name": "python",
   "nbconvert_exporter": "python",
   "pygments_lexer": "ipython3",
   "version": "3.10.14"
  }
 },
 "nbformat": 4,
 "nbformat_minor": 2
}
