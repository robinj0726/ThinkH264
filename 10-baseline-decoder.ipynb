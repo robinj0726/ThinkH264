{
 "cells": [
  {
   "cell_type": "markdown",
   "metadata": {},
   "source": []
  },
  {
   "cell_type": "code",
   "execution_count": 14,
   "metadata": {},
   "outputs": [],
   "source": [
    "from bitstring import BitArray, BitStream\n",
    "from h264bits import H264Bits"
   ]
  },
  {
   "cell_type": "code",
   "execution_count": 15,
   "metadata": {},
   "outputs": [],
   "source": [
    "from nalsps import SPS\n",
    "from nalpps import PPS\n",
    "from nalslice import Slice"
   ]
  },
  {
   "cell_type": "code",
   "execution_count": 16,
   "metadata": {},
   "outputs": [],
   "source": [
    "input_file = open(\"data/baseline.264\", \"rb\")\n",
    "nalus_ba = list(BitArray(input_file).split('0x000001', bytealigned=True))[1:]"
   ]
  },
  {
   "cell_type": "code",
   "execution_count": 17,
   "metadata": {},
   "outputs": [],
   "source": [
    "ppss = []\n",
    "slices = []"
   ]
  },
  {
   "cell_type": "code",
   "execution_count": 18,
   "metadata": {},
   "outputs": [
    {
     "name": "stdout",
     "output_type": "stream",
     "text": [
      "0x0000016742c00bd902c4e840000003004000000c83c50a9200\n",
      "{'forbidden_zero_bit': 0, 'nal_ref_idc': 3, 'nal_unit_type': 7}\n",
      "0x00000168cb83cb20\n",
      "{'forbidden_zero_bit': 0, 'nal_ref_idc': 3, 'nal_unit_type': 8}\n",
      "0x0000010605ffff6ddc45e9bde6d948b7962cd820d923eeef78323634202d20636f7265203134382072323639392061356530366239202d20482e3236342f4d5045472d342041564320636f646563202d20436f70796c65667420323030332d32303136202d20687474703a2f2f7777772e766964656f6c616e2e6f7267...\n",
      "{'forbidden_zero_bit': 0, 'nal_ref_idc': 0, 'nal_unit_type': 6}\n",
      "0x000001658884087c41c45e040fbbf0031c63dd53d4a1fde892ea3b0b62fe7c9c327ce9b6e15234897500b8c2fe108e931af979c08ccf08fa4d4e9abf54697960724181546d27cb9c0829d46272ff8fdddde729670b6d3dc0b53d0b2c852f6f7c155d81823de200e4cdc6462a47c6406b49dce483962b8d1fa6edf0330c...\n",
      "{'forbidden_zero_bit': 0, 'nal_ref_idc': 3, 'nal_unit_type': 5}\n",
      "0x000001419a3812e69fae0b87f260be6c6a19d57f96ba5e5fc8bfdf74d72a2df26259d55f97ac4dd562e5957d7aa0bc718b3625d608440b21a979ecf7d606038bb4d7a97d1e0b4a6c432eb088993f24a35efa72c2229a13813dc2da9fcb9078fcbe2092c40bf09a1477777b45cf04e50a1527146ee734cf9777bdb6858e...\n",
      "{'forbidden_zero_bit': 0, 'nal_ref_idc': 2, 'nal_unit_type': 1}\n",
      "0x000001419a5405bc9fdf9d021e1e72b7cbfb77ffff9d73eb1509c9d564fbf09f294fa04a298b7a57bc8ebc4e12297e33db7e55d451eeeefc768be0afe3e41c314cb391d5b225f7fcf51642def5609d1b8ef87bce1b828e5a5a3e57b108805030b515f20b9f0b7cd4ebe529491d2c5ddd34202d425a93fb4f5b307c280a...\n",
      "{'forbidden_zero_bit': 0, 'nal_ref_idc': 2, 'nal_unit_type': 1}\n"
     ]
    }
   ],
   "source": [
    "for nalu_ba in nalus_ba:\n",
    "    print(nalu_ba)\n",
    "    # enulation_prevention_three_byte\n",
    "    nalu_ba.replace('0x000003', '0x0000', bytealigned=True)\n",
    "    nalu_bs = BitStream(nalu_ba)\n",
    "    nb = H264Bits(nalu_bs)\n",
    "    params = {\"forbidden_zero_bit\" : nb.f(1),\n",
    "              \"nal_ref_idc\" : nb.u(2),\n",
    "              \"nal_unit_type\" : nb.u(5)}\n",
    "    print(params)\n",
    "    # if params[\"nal_unit_type\"] == 7: # SPS\n",
    "    #     sps = SPS(nb, params = params)\n",
    "    #     # dump_params(sps, \"sps.json\")\n",
    "    # elif params[\"nal_unit_type\"] == 8: # PPS\n",
    "    #     pps = PPS(nb, sps = sps, params = params)\n",
    "    #     ppss.append(pps)\n",
    "    #     fname = \"pps_\" + str(len(ppss)) + \".json\"\n",
    "    #     # dump_params(pps, fname)\n",
    "    # elif params[\"nal_unit_type\"] in [1, 5]: # Slice\n",
    "    #     slice = Slice(nb, sps = sps, ppss = ppss, params = params)\n",
    "    #     # decode_slice(slice)\n",
    "    #     break\n",
    "    #     slices.append(slice)\n",
    "    #     dump_mbs(slice, \"slice_\" + str(len(slices)) + \"_mb.json\")\n",
    "    #     fname = \"slice_\" + str(len(slices)) + \".json\"\n",
    "    #     dump_params(slice, fname)\n",
    "    # else:\n",
    "    #     print(\"Unknown Slice type, ignore...\")\n"
   ]
  },
  {
   "cell_type": "markdown",
   "metadata": {},
   "source": [
    "**RBSP (Raw Byte Sequence Payload)**: Contains syntax structures such as SPS, PPS, slice data, etc., with Emulation Prevention Bytes (EPBs) removed."
   ]
  },
  {
   "cell_type": "code",
   "execution_count": 19,
   "metadata": {},
   "outputs": [
    {
     "name": "stdout",
     "output_type": "stream",
     "text": [
      "0x0000016742c00bd902c4e8400000004000000c83c50a9200\n",
      "{'forbidden_zero_bit': 0, 'nal_ref_idc': 3, 'nal_unit_type': 7}\n",
      "<nalsps.SPS object at 0x0000012B94A24790>\n"
     ]
    }
   ],
   "source": [
    "# SPS\n",
    "sps = {}\n",
    "nalu_ba = nalus_ba[0]\n",
    "print(nalu_ba)\n",
    "nalu_ba.replace('0x000003', '0x0000', bytealigned=True)\n",
    "nalu_bs = BitStream(nalu_ba)\n",
    "nb = H264Bits(nalu_bs)\n",
    "params = {\"forbidden_zero_bit\" : nb.f(1),\n",
    "            \"nal_ref_idc\" : nb.u(2),\n",
    "            \"nal_unit_type\" : nb.u(5)}\n",
    "print(params)\n",
    "\n",
    "sps = SPS(nb, params = params)\n",
    "\n",
    "print(sps)"
   ]
  },
  {
   "cell_type": "code",
   "execution_count": 20,
   "metadata": {},
   "outputs": [
    {
     "name": "stdout",
     "output_type": "stream",
     "text": [
      "0x00000168cb83cb20\n",
      "{'forbidden_zero_bit': 0, 'nal_ref_idc': 3, 'nal_unit_type': 8}\n",
      "<nalpps.PPS object at 0x0000012B95C9F190>\n"
     ]
    }
   ],
   "source": [
    "# PPS \n",
    "nalu_ba = nalus_ba[1]\n",
    "print(nalu_ba)\n",
    "nalu_ba.replace('0x000003', '0x0000', bytealigned=True)\n",
    "nalu_bs = BitStream(nalu_ba)\n",
    "nb = H264Bits(nalu_bs)\n",
    "params = {\"forbidden_zero_bit\" : nb.f(1),\n",
    "            \"nal_ref_idc\" : nb.u(2),\n",
    "            \"nal_unit_type\" : nb.u(5)}\n",
    "print(params)\n",
    "\n",
    "pps = PPS(nb, sps = sps, params = params)\n",
    "ppss.append(pps)\n",
    "\n",
    "print(pps)"
   ]
  },
  {
   "cell_type": "code",
   "execution_count": 26,
   "metadata": {},
   "outputs": [
    {
     "name": "stdout",
     "output_type": "stream",
     "text": [
      "0x000001658884087c41c45e040fbbf0031c63dd53d4a1fde892ea3b0b62fe7c9c327ce9b6e15234897500b8c2fe108e931af979c08ccf08fa4d4e9abf54697960724181546d27cb9c0829d46272ff8fdddde729670b6d3dc0b53d0b2c852f6f7c155d81823de200e4cdc6462a47c6406b49dce483962b8d1fa6edf0330c...\n",
      "{'forbidden_zero_bit': 0, 'nal_ref_idc': 3, 'nal_unit_type': 5}\n"
     ]
    }
   ],
   "source": [
    "# SEI\n",
    "nalu_ba = nalus_ba[2]\n",
    "print(nalu_ba)\n",
    "nalu_ba.replace('0x000003', '0x0000', bytealigned=True)\n",
    "nalu_bs = BitStream(nalu_ba)\n",
    "nb = H264Bits(nalu_bs)\n",
    "params = {\"forbidden_zero_bit\" : nb.f(1),\n",
    "            \"nal_ref_idc\" : nb.u(2),\n",
    "            \"nal_unit_type\" : nb.u(5)}\n",
    "print(params)"
   ]
  },
  {
   "cell_type": "code",
   "execution_count": 25,
   "metadata": {},
   "outputs": [
    {
     "name": "stdout",
     "output_type": "stream",
     "text": [
      "0x000001658884087c41c45e040fbbf0031c63dd53d4a1fde892ea3b0b62fe7c9c327ce9b6e15234897500b8c2fe108e931af979c08ccf08fa4d4e9abf54697960724181546d27cb9c0829d46272ff8fdddde729670b6d3dc0b53d0b2c852f6f7c155d81823de200e4cdc6462a47c6406b49dce483962b8d1fa6edf0330c...\n",
      "{'forbidden_zero_bit': 0, 'nal_ref_idc': 3, 'nal_unit_type': 5}\n",
      "<nalslice.Slice object at 0x0000012B94A24EB0>\n"
     ]
    }
   ],
   "source": [
    "# IDR\n",
    "nalu_ba = nalus_ba[3]\n",
    "print(nalu_ba)\n",
    "nalu_ba.replace('0x000003', '0x0000', bytealigned=True)\n",
    "nalu_bs = BitStream(nalu_ba)\n",
    "nb = H264Bits(nalu_bs)\n",
    "params = {\"forbidden_zero_bit\" : nb.f(1),\n",
    "            \"nal_ref_idc\" : nb.u(2),\n",
    "            \"nal_unit_type\" : nb.u(5)}\n",
    "print(params)\n",
    "\n",
    "slice = Slice(nb, sps = sps, ppss = ppss, params = params)\n",
    "print(slice)"
   ]
  }
 ],
 "metadata": {
  "kernelspec": {
   "display_name": "thinkdsp",
   "language": "python",
   "name": "python3"
  },
  "language_info": {
   "codemirror_mode": {
    "name": "ipython",
    "version": 3
   },
   "file_extension": ".py",
   "mimetype": "text/x-python",
   "name": "python",
   "nbconvert_exporter": "python",
   "pygments_lexer": "ipython3",
   "version": "3.10.14"
  }
 },
 "nbformat": 4,
 "nbformat_minor": 2
}
