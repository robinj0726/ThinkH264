{
 "cells": [
  {
   "cell_type": "markdown",
   "metadata": {},
   "source": []
  },
  {
   "cell_type": "code",
   "execution_count": 16,
   "metadata": {},
   "outputs": [],
   "source": [
    "from bitstring import BitArray, BitStream\n",
    "from h264bits import H264Bits"
   ]
  },
  {
   "cell_type": "code",
   "execution_count": 17,
   "metadata": {},
   "outputs": [],
   "source": [
    "from nalsps import SPS\n",
    "from nalpps import PPS\n",
    "from nalslice import Slice"
   ]
  },
  {
   "cell_type": "code",
   "execution_count": 18,
   "metadata": {},
   "outputs": [],
   "source": [
    "input_file = open(\"data/baseline.264\", \"rb\")\n",
    "nalus_ba = list(BitArray(input_file).split('0x000001', bytealigned=True))[1:]"
   ]
  },
  {
   "cell_type": "code",
   "execution_count": 19,
   "metadata": {},
   "outputs": [],
   "source": [
    "ppss = []\n",
    "slices = []"
   ]
  },
  {
   "cell_type": "code",
   "execution_count": 20,
   "metadata": {},
   "outputs": [
    {
     "name": "stdout",
     "output_type": "stream",
     "text": [
      "0x0000016742c00bd902c4e840000003004000000c83c50a9200\n",
      "{'forbidden_zero_bit': 0, 'nal_ref_idc': 3, 'nal_unit_type': 7}\n",
      "0x00000168cb83cb20\n",
      "{'forbidden_zero_bit': 0, 'nal_ref_idc': 3, 'nal_unit_type': 8}\n",
      "0x0000010605ffff6ddc45e9bde6d948b7962cd820d923eeef78323634202d20636f7265203134382072323639392061356530366239202d20482e3236342f4d5045472d342041564320636f646563202d20436f70796c65667420323030332d32303136202d20687474703a2f2f7777772e766964656f6c616e2e6f7267...\n",
      "{'forbidden_zero_bit': 0, 'nal_ref_idc': 0, 'nal_unit_type': 6}\n",
      "0x000001658884087c41c45e040fbbf0031c63dd53d4a1fde892ea3b0b62fe7c9c327ce9b6e15234897500b8c2fe108e931af979c08ccf08fa4d4e9abf54697960724181546d27cb9c0829d46272ff8fdddde729670b6d3dc0b53d0b2c852f6f7c155d81823de200e4cdc6462a47c6406b49dce483962b8d1fa6edf0330c...\n",
      "{'forbidden_zero_bit': 0, 'nal_ref_idc': 3, 'nal_unit_type': 5}\n",
      "0x000001419a3812e69fae0b87f260be6c6a19d57f96ba5e5fc8bfdf74d72a2df26259d55f97ac4dd562e5957d7aa0bc718b3625d608440b21a979ecf7d606038bb4d7a97d1e0b4a6c432eb088993f24a35efa72c2229a13813dc2da9fcb9078fcbe2092c40bf09a1477777b45cf04e50a1527146ee734cf9777bdb6858e...\n",
      "{'forbidden_zero_bit': 0, 'nal_ref_idc': 2, 'nal_unit_type': 1}\n",
      "0x000001419a5405bc9fdf9d021e1e72b7cbfb77ffff9d73eb1509c9d564fbf09f294fa04a298b7a57bc8ebc4e12297e33db7e55d451eeeefc768be0afe3e41c314cb391d5b225f7fcf51642def5609d1b8ef87bce1b828e5a5a3e57b108805030b515f20b9f0b7cd4ebe529491d2c5ddd34202d425a93fb4f5b307c280a...\n",
      "{'forbidden_zero_bit': 0, 'nal_ref_idc': 2, 'nal_unit_type': 1}\n"
     ]
    }
   ],
   "source": [
    "for nalu_ba in nalus_ba:\n",
    "    print(nalu_ba)\n",
    "    # enulation_prevention_three_byte\n",
    "    nalu_ba.replace('0x000003', '0x0000', bytealigned=True)\n",
    "    nalu_bs = BitStream(nalu_ba)\n",
    "    nb = H264Bits(nalu_bs)\n",
    "    params = {\"forbidden_zero_bit\" : nb.f(1),\n",
    "              \"nal_ref_idc\" : nb.u(2),\n",
    "              \"nal_unit_type\" : nb.u(5)}\n",
    "    print(params)\n",
    "    # if params[\"nal_unit_type\"] == 7: # SPS\n",
    "    #     sps = SPS(nb, params = params)\n",
    "    #     # dump_params(sps, \"sps.json\")\n",
    "    # elif params[\"nal_unit_type\"] == 8: # PPS\n",
    "    #     pps = PPS(nb, sps = sps, params = params)\n",
    "    #     ppss.append(pps)\n",
    "    #     fname = \"pps_\" + str(len(ppss)) + \".json\"\n",
    "    #     # dump_params(pps, fname)\n",
    "    # elif params[\"nal_unit_type\"] in [1, 5]: # Slice\n",
    "    #     slice = Slice(nb, sps = sps, ppss = ppss, params = params)\n",
    "    #     # decode_slice(slice)\n",
    "    #     break\n",
    "    #     slices.append(slice)\n",
    "    #     dump_mbs(slice, \"slice_\" + str(len(slices)) + \"_mb.json\")\n",
    "    #     fname = \"slice_\" + str(len(slices)) + \".json\"\n",
    "    #     dump_params(slice, fname)\n",
    "    # else:\n",
    "    #     print(\"Unknown Slice type, ignore...\")\n"
   ]
  },
  {
   "cell_type": "markdown",
   "metadata": {},
   "source": [
    "The `forbidden_zero_bit` is always set to zero and is used to check for bit errors or synchronization issues. If this bit is not zero, it indicates an error in the stream."
   ]
  },
  {
   "cell_type": "markdown",
   "metadata": {},
   "source": [
    "The `nal_ref_idc` field in the NALU (Network Abstraction Layer Unit) header in H.264 video coding is a 2-bit field. Therefore, it can take on the following four possible values:\n",
    "\n",
    "- 0: The NALU does not contain a sequence or picture parameter set, slice of a reference picture, or a slice data partition of a reference picture.\n",
    "- 1: The NALU contains a slice of a reference picture or a slice data partition of a reference picture, but not a sequence or picture parameter set.\n",
    "- 2: The NALU contains a sequence or picture parameter set, but not a slice of a reference picture or a slice data partition of a reference picture.\n",
    "- 3: The NALU contains a sequence or picture parameter set, a slice of a reference picture, or a slice data partition of a reference picture.\n",
    "\n",
    "These values are used to indicate the importance of the NALU in terms of error recovery and the decoding process. Higher values indicate higher importance."
   ]
  },
  {
   "cell_type": "markdown",
   "metadata": {},
   "source": [
    "In H.264 video coding, the `nal_unit_type` field in the NALU (Network Abstraction Layer Unit) header specifies the type of RBSP (Raw Byte Sequence Payload) data structure contained in the NALU. Here are the possible NAL unit types:\n",
    "\n",
    "- 0: Unspecified\n",
    "- 1: Coded slice of a non-IDR picture\n",
    "- 2: Coded slice data partition A\n",
    "- 3: Coded slice data partition B\n",
    "- 4: Coded slice data partition C\n",
    "- 5: Coded slice of an IDR picture\n",
    "- 6: Supplemental enhancement information (SEI)\n",
    "- 7: Sequence parameter set\n",
    "- 8: Picture parameter set\n",
    "- 9: Access unit delimiter\n",
    "- 10: End of sequence\n",
    "- 11: End of stream\n",
    "- 12: Filler data\n",
    "- 13: Sequence parameter set extension\n",
    "- 14: Prefix NAL unit\n",
    "- 15: Subset sequence parameter set\n",
    "- 16-18: Reserved\n",
    "- 19: Coded slice of an auxiliary coded picture without partitioning\n",
    "- 20: Coded slice extension\n",
    "- 21: Coded slice extension for depth view components\n",
    "- 22-23: Reserved\n",
    "- 24: STAP-A Single-time aggregation packet\n",
    "- 25: STAP-B Single-time aggregation packet\n",
    "- 26: MTAP16 Multi-time aggregation packet\n",
    "- 27: MTAP24 Multi-time aggregation packet\n",
    "- 28: FU-A Fragmentation unit\n",
    "- 29: FU-B Fragmentation unit\n",
    "- 30-31: Unspecified\n",
    "\n",
    "Each of these types corresponds to a different kind of data or operation in the H.264 video stream."
   ]
  },
  {
   "cell_type": "code",
   "execution_count": 21,
   "metadata": {},
   "outputs": [
    {
     "name": "stdout",
     "output_type": "stream",
     "text": [
      "None\n"
     ]
    }
   ],
   "source": [
    "print(sps)"
   ]
  },
  {
   "cell_type": "markdown",
   "metadata": {},
   "source": [
    "**RBSP (Raw Byte Sequence Payload)**: Contains syntax structures such as SPS, PPS, slice data, etc., with Emulation Prevention Bytes (EPBs) removed."
   ]
  },
  {
   "cell_type": "code",
   "execution_count": 26,
   "metadata": {},
   "outputs": [],
   "source": [
    "sps = {}"
   ]
  },
  {
   "cell_type": "code",
   "execution_count": 30,
   "metadata": {},
   "outputs": [
    {
     "name": "stdout",
     "output_type": "stream",
     "text": [
      "0x0000016742c00bd902c4e8400000004000000c83c50a9200\n",
      "{'forbidden_zero_bit': 0, 'nal_ref_idc': 3, 'nal_unit_type': 7}\n",
      "{'profile_idc': 66, 'level_idc': 11, 'seq_parameter_set_id': 0, 'constraint_set0_flag': 1, 'constraint_set1_flag': 1, 'constraint_set2_flag': 0, 'constraint_set3_flag': 0, 'constraint_set4_flag': 0, 'constraint_set5_flag': 0, 'reserved_zero_2bits': 0}\n"
     ]
    }
   ],
   "source": [
    "# SPS\n",
    "nalu_ba = nalus_ba[0]\n",
    "print(nalu_ba)\n",
    "nalu_ba.replace('0x000003', '0x0000', bytealigned=True)\n",
    "nalu_bs = BitStream(nalu_ba)\n",
    "nb = H264Bits(nalu_bs)\n",
    "params = {\"forbidden_zero_bit\" : nb.f(1),\n",
    "            \"nal_ref_idc\" : nb.u(2),\n",
    "            \"nal_unit_type\" : nb.u(5)}\n",
    "print(params)\n",
    "\n",
    "# profile_idc = 66, 77, 88, 100\n",
    "sps['profile_idc'] = nb.u(8)\n",
    "constraint_set0_flag = nb.u(1)\n",
    "constraint_set1_flag = nb.u(1)\n",
    "constraint_set2_flag = nb.u(1)\n",
    "constraint_set3_flag = nb.u(1)\n",
    "constraint_set4_flag = nb.u(1)\n",
    "constraint_set5_flag = nb.u(1)\n",
    "reserved_zero_2bits = nb.u(2)\n",
    "sps['level_idc'] = nb.u(8)\n",
    "sps['seq_parameter_set_id'] =  nb.ue()\n",
    "log2_max_frame_num_minus4 = nb.ue()\n",
    "pic_order_cnt_type = nb.ue()\n",
    "if pic_order_cnt_type == 0 :\n",
    "    log2_max_pic_order_cnt_lsb_minus4 = nb.ue()\n",
    "elif pic_order_cnt_type == 1:\n",
    "    delta_pic_order_always_zero_flag = nb.u(1)\n",
    "    offset_for_non_ref_pic = nb.se()\n",
    "    offset_for_top_to_bottom_field = nb.se()\n",
    "    num_ref_frames_in_pic_order_cnt_cycle = nb.ue()\n",
    "    offset_for_ref_frame = []\n",
    "    for i in range(num_ref_frames_in_pic_order_cnt_cycle):\n",
    "        offset_for_ref_frame.append(se())\n",
    "max_num_ref_frames = nb.ue()\n",
    "gaps_in_frame_num_value_allowed_flag = nb.u(1)\n",
    "pic_width_in_mbs_minus1 = nb.ue()\n",
    "pic_height_in_map_units_minus1 = nb.ue()\n",
    "frame_mbs_only_flag = nb.u(1)\n",
    "if not frame_mbs_only_flag:\n",
    "    mb_adaptive_frame_field_flag = nb.u(1)\n",
    "else:\n",
    "    mb_adaptive_frame_field_flag = 0\n",
    "direct_8x8_inference_flag = nb.u(1)\n",
    "frame_cropping_flag = nb.u(1)\n",
    "if frame_cropping_flag:\n",
    "    frame_crop_left_offset = nb.ue()\n",
    "    frame_crop_right_offset = nb.ue()\n",
    "    frame_crop_top_offset = nb.ue()\n",
    "    frame_crop_bottom_offset = nb.ue()\n",
    "vui_parameters_present_flag = nb.u(1)\n",
    "if vui_parameters_present_flag:\n",
    "#   vui_parameters\n",
    "    aspect_ratio_info_present_flag = nb.u(1)\n",
    "    if aspect_ratio_info_present_flag:\n",
    "        aspect_ratio_idc = nb.u(8)\n",
    "        if aspect_ratio_idc == Extended_SAR:\n",
    "            sar_width = nb.u(16)\n",
    "            sar_height = nb.u(16)\n",
    "    overscan_info_present_flag = nb.u(1)\n",
    "    if overscan_info_present_flag:\n",
    "        overscan_appropriate_flag = nb.u(1)\n",
    "    video_signal_type_present_flag = nb.u(1)\n",
    "    if video_signal_type_present_flag:\n",
    "        video_format = nb.u(3)\n",
    "        video_full_range_flag = nb.u(1)\n",
    "        colour_description_present_flag = nb.u(1)\n",
    "        if colour_description_present_flag:\n",
    "            colour_primaries = nb.u(8)\n",
    "            transfer_characteristics = nb.u(8)\n",
    "            matrix_coefficients = nb.u(8)\n",
    "    chroma_loc_info_present_flag = nb.u(1)\n",
    "    if chroma_loc_info_present_flag:\n",
    "        chroma_sample_loc_type_top_field = nb.ue()\n",
    "        chroma_sample_loc_type_bottom_field = nb.ue()\n",
    "    timing_info_present_flag = nb.u(1)\n",
    "    if timing_info_present_flag:\n",
    "        num_units_in_tick = nb.u(32)\n",
    "        time_scale = nb.u(32)\n",
    "        fixed_frame_rate_flag = nb.u(1)\n",
    "    nal_hrd_parameters_present_flag = nb.u(1)\n",
    "    if nal_hrd_parameters_present_flag:\n",
    "        hrd_parameters()\n",
    "    vcl_hrd_parameters_present_flag = nb.u(1)\n",
    "    if vcl_hrd_parameters_present_flag:\n",
    "        hrd_parameters()\n",
    "    if nal_hrd_parameters_present_flag or vcl_hrd_parameters_present_flag:\n",
    "        low_delay_hrd_flag = nb.u(1)\n",
    "    pic_struct_present_flag = nb.u(1)\n",
    "    bitstream_restriction_flag = nb.u(1)\n",
    "    if bitstream_restriction_flag:\n",
    "        motion_vectors_over_pic_boundaries_flag = nb.u(1)\n",
    "        max_bytes_per_pic_denom = nb.ue()\n",
    "        max_bits_per_mb_denom = nb.ue()\n",
    "        log2_max_mv_length_horizontal = nb.ue()\n",
    "        log2_max_mv_length_vertical = nb.ue()\n",
    "        max_num_reorder_frames = nb.ue()\n",
    "        max_dec_frame_buffering = nb.ue()\n",
    "\n",
    "\n",
    "print(sps)"
   ]
  },
  {
   "cell_type": "code",
   "execution_count": 25,
   "metadata": {},
   "outputs": [
    {
     "name": "stdout",
     "output_type": "stream",
     "text": [
      "66\n",
      "11\n"
     ]
    }
   ],
   "source": [
    "print(profile_idc)\n",
    "print(level_idc)"
   ]
  },
  {
   "cell_type": "code",
   "execution_count": 24,
   "metadata": {},
   "outputs": [
    {
     "name": "stdout",
     "output_type": "stream",
     "text": [
      "0x000001419a3812e69fae0b87f260be6c6a19d57f96ba5e5fc8bfdf74d72a2df26259d55f97ac4dd562e5957d7aa0bc718b3625d608440b21a979ecf7d606038bb4d7a97d1e0b4a6c432eb088993f24a35efa72c2229a13813dc2da9fcb9078fcbe2092c40bf09a1477777b45cf04e50a1527146ee734cf9777bdb6858e...\n",
      "{'forbidden_zero_bit': 0, 'nal_ref_idc': 2, 'nal_unit_type': 1}\n"
     ]
    }
   ],
   "source": [
    "# IDR\n",
    "nalu_ba = nalus_ba[4]\n",
    "print(nalu_ba)\n",
    "nalu_ba.replace('0x000003', '0x0000', bytealigned=True)\n",
    "nalu_bs = BitStream(nalu_ba)\n",
    "nb = H264Bits(nalu_bs)\n",
    "params = {\"forbidden_zero_bit\" : nb.f(1),\n",
    "            \"nal_ref_idc\" : nb.u(2),\n",
    "            \"nal_unit_type\" : nb.u(5)}\n",
    "print(params)"
   ]
  }
 ],
 "metadata": {
  "kernelspec": {
   "display_name": "thinkdsp",
   "language": "python",
   "name": "python3"
  },
  "language_info": {
   "codemirror_mode": {
    "name": "ipython",
    "version": 3
   },
   "file_extension": ".py",
   "mimetype": "text/x-python",
   "name": "python",
   "nbconvert_exporter": "python",
   "pygments_lexer": "ipython3",
   "version": "3.10.14"
  }
 },
 "nbformat": 4,
 "nbformat_minor": 2
}
