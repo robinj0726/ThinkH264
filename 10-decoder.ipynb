{
 "cells": [
  {
   "cell_type": "code",
   "execution_count": 1,
   "metadata": {},
   "outputs": [],
   "source": [
    "import bitstring\n",
    "import h264\n"
   ]
  },
  {
   "cell_type": "code",
   "execution_count": 2,
   "metadata": {},
   "outputs": [],
   "source": [
    "with open(\"./samples/baseline.264\", \"rb\") as input_file:\n",
    "    nalus_ba = list(bitstring.BitStream(input_file).split('0x000001', bytealigned=True))[1:]\n"
   ]
  },
  {
   "cell_type": "code",
   "execution_count": 3,
   "metadata": {},
   "outputs": [
    {
     "name": "stdout",
     "output_type": "stream",
     "text": [
      "{'forbidden_zero_bit': 0, 'nal_ref_idc': 3, 'nal_unit_type': 7}\n",
      "BitStream(data=\"0x6742c00bd902c4e8400000004000000c83c50a9200\")\n",
      "SPS(profile_idc=66, constraint_set0_flag=1, constraint_set1_flag=1, constraint_set2_flag=0, constraint_set3_flag=0, reserved_zero_2bits=0, level_idc=11, seq_parameter_set_id=0, log2_max_frame_num_minus4=0, pic_order_cnt_type=2, max_num_ref_frames=3, gaps_in_frame_num_value_allowed_flag=0, pic_width_in_mbs_minus1=10, pic_height_in_map_units_minus1=8, frame_mbs_only_flag=1, mb_adaptive_frame_field_flag=0, direct_8x8_inference_flag=1, frame_cropping_flag=0, vui_parameters_present_flag=1, aspect_ratio_info_present_flag=0, overscan_info_present_flag=0, video_signal_type_present_flag=0, chroma_loc_info_present_flag=0, timing_info_present_flag=1, num_units_in_tick=1, time_scale=50, fixed_frame_rate_flag=0, nal_hrd_parameters_present_flag=0, vcl_hrd_parameters_present_flag=0, pic_struct_present_flag=0, bitstream_restriction_flag=1, motion_vectors_over_pic_boundaries_flag=1, max_bytes_per_pic_denom=0, max_bits_per_mb_denom=0, log2_max_mv_length_horizontal=9, log2_max_mv_length_vertical=9, max_num_reorder_frames=0, max_dec_frame_buffering=3, chroma_format_idc=1, separate_colour_plane_flag=0, ChromaArrayType=1, SubWidthC=2, SubHeightC=2, MbWidthC=8, MbHeightC=8, bit_depth_luma_minus8=0, BitDepth_Y=8, QpBdOffset_Y=0, bit_depth_chroma_minus8=0, BitDepth_C=8, QpBdOffset_C=0, qpprime_y_zero_transform_bypass_flag=0, rbsp_stop_one_bit=1)\n",
      "{'forbidden_zero_bit': 0, 'nal_ref_idc': 3, 'nal_unit_type': 8}\n",
      "BitStream(data=\"0x68cb83cb20\")\n",
      "PPS(pic_parameter_set_id=0, seq_parameter_set_id=0, entropy_coding_mode_flag=0, bottom_field_pic_order_in_frame_present_flag=0, num_slice_groups_minus1=0, num_ref_idx_l0_default_active_minus1=2, num_ref_idx_l1_default_active_minus1=0, weighted_pred_flag=0, weighted_bipred_idc=0, pic_init_qp_minus26=-3, pic_init_qs_minus26=0, chroma_qp_index_offset=-2, deblocking_filter_control_present_flag=1, constrained_intra_pred_flag=0, redundant_pic_cnt_present_flag=0, rbsp_stop_one_bit=1)\n",
      "{'forbidden_zero_bit': 0, 'nal_ref_idc': 0, 'nal_unit_type': 6}\n",
      "BitStream(data=\"0x0605ffff6ddc45e9bde6d948b7962cd820d923eeef78323634202d20636f7265203134382072323639392061356530366239202d20482e3236342f4d5045472d342041564320636f646563202d20436f70796c65667420323030332d32303136202d20687474703a2f2f7777772e766964656f6c616e2e6f72672f7832...\")\n",
      "{'forbidden_zero_bit': 0, 'nal_ref_idc': 3, 'nal_unit_type': 5}\n",
      "BitStream(data=\"0x658884087c41c45e040fbbf0031c63dd53d4a1fde892ea3b0b62fe7c9c327ce9b6e15234897500b8c2fe108e931af979c08ccf08fa4d4e9abf54697960724181546d27cb9c0829d46272ff8fdddde729670b6d3dc0b53d0b2c852f6f7c155d81823de200e4cdc6462a47c6406b49dce483962b8d1fa6edf0330c245d0f...\")\n"
     ]
    },
    {
     "ename": "KeyboardInterrupt",
     "evalue": "",
     "output_type": "error",
     "traceback": [
      "\u001b[1;31m---------------------------------------------------------------------------\u001b[0m",
      "\u001b[1;31mKeyboardInterrupt\u001b[0m                         Traceback (most recent call last)",
      "Cell \u001b[1;32mIn[3], line 25\u001b[0m\n\u001b[0;32m     23\u001b[0m     \u001b[38;5;28;01mpass\u001b[39;00m\n\u001b[0;32m     24\u001b[0m \u001b[38;5;28;01melif\u001b[39;00m params[\u001b[38;5;124m\"\u001b[39m\u001b[38;5;124mnal_unit_type\u001b[39m\u001b[38;5;124m\"\u001b[39m] \u001b[38;5;129;01min\u001b[39;00m [\u001b[38;5;241m1\u001b[39m, \u001b[38;5;241m5\u001b[39m]:\n\u001b[1;32m---> 25\u001b[0m     \u001b[38;5;28mslice\u001b[39m \u001b[38;5;241m=\u001b[39m \u001b[43mh264\u001b[49m\u001b[38;5;241;43m.\u001b[39;49m\u001b[43mSlice\u001b[49m\u001b[43m(\u001b[49m\u001b[43mbs\u001b[49m\u001b[43m,\u001b[49m\u001b[43m \u001b[49m\u001b[43msps\u001b[49m\u001b[43m,\u001b[49m\u001b[43m \u001b[49m\u001b[43mppss\u001b[49m\u001b[43m,\u001b[49m\u001b[43m \u001b[49m\u001b[43mparams\u001b[49m\u001b[43m)\u001b[49m\n",
      "File \u001b[1;32mc:\\Users\\robin\\Documents\\GitHub\\thinkH264\\h264\\slice.py:18\u001b[0m, in \u001b[0;36mSlice.__init__\u001b[1;34m(self, bits, sps, ppss, params)\u001b[0m\n\u001b[0;32m     14\u001b[0m \u001b[38;5;28mself\u001b[39m\u001b[38;5;241m.\u001b[39mslice_header()\n\u001b[0;32m     16\u001b[0m \u001b[38;5;28mself\u001b[39m\u001b[38;5;241m.\u001b[39mslice_variables()\n\u001b[1;32m---> 18\u001b[0m \u001b[38;5;28;43mself\u001b[39;49m\u001b[38;5;241;43m.\u001b[39;49m\u001b[43mslice_data\u001b[49m\u001b[43m(\u001b[49m\u001b[43m)\u001b[49m\n",
      "File \u001b[1;32mc:\\Users\\robin\\Documents\\GitHub\\thinkH264\\h264\\slice.py:198\u001b[0m, in \u001b[0;36mSlice.slice_data\u001b[1;34m(self)\u001b[0m\n\u001b[0;32m    196\u001b[0m     \u001b[38;5;28mself\u001b[39m\u001b[38;5;241m.\u001b[39m_mbs\u001b[38;5;241m.\u001b[39mappend(mb)\n\u001b[0;32m    197\u001b[0m \u001b[38;5;28;01mif\u001b[39;00m \u001b[38;5;129;01mnot\u001b[39;00m \u001b[38;5;28mself\u001b[39m\u001b[38;5;241m.\u001b[39m_pps\u001b[38;5;241m.\u001b[39mentropy_coding_mode_flag :\n\u001b[1;32m--> 198\u001b[0m     moreDataFlag \u001b[38;5;241m=\u001b[39m \u001b[38;5;28;43mself\u001b[39;49m\u001b[38;5;241;43m.\u001b[39;49m\u001b[43m_bits\u001b[49m\u001b[38;5;241;43m.\u001b[39;49m\u001b[43mmore_rbsp_data\u001b[49m\u001b[43m(\u001b[49m\u001b[43m)\u001b[49m\n\u001b[0;32m    199\u001b[0m \u001b[38;5;28;01melse\u001b[39;00m :\n\u001b[0;32m    200\u001b[0m     \u001b[38;5;28;01mif\u001b[39;00m \u001b[38;5;28mself\u001b[39m\u001b[38;5;241m.\u001b[39mslice_type \u001b[38;5;241m!=\u001b[39m \u001b[38;5;124m\"\u001b[39m\u001b[38;5;124mI\u001b[39m\u001b[38;5;124m\"\u001b[39m \u001b[38;5;129;01mand\u001b[39;00m \u001b[38;5;28mself\u001b[39m\u001b[38;5;241m.\u001b[39mslice_type \u001b[38;5;241m!=\u001b[39m \u001b[38;5;124m\"\u001b[39m\u001b[38;5;124mSI\u001b[39m\u001b[38;5;124m\"\u001b[39m :\n",
      "File \u001b[1;32mc:\\Users\\robin\\Documents\\GitHub\\thinkH264\\h264\\bitstream.py:35\u001b[0m, in \u001b[0;36mBitStream.more_rbsp_data\u001b[1;34m(self)\u001b[0m\n\u001b[0;32m     33\u001b[0m \u001b[38;5;28;01mwhile\u001b[39;00m i \u001b[38;5;241m>\u001b[39m\u001b[38;5;241m=\u001b[39m \u001b[38;5;241m0\u001b[39m:\n\u001b[0;32m     34\u001b[0m     \u001b[38;5;28;01mif\u001b[39;00m \u001b[38;5;28mself\u001b[39m\u001b[38;5;241m.\u001b[39m_bits[i] \u001b[38;5;241m==\u001b[39m \u001b[38;5;28;01mTrue\u001b[39;00m:\n\u001b[1;32m---> 35\u001b[0m         \u001b[38;5;28;01mif\u001b[39;00m \u001b[38;5;28;43mself\u001b[39;49m\u001b[38;5;241;43m.\u001b[39;49m\u001b[43m_bits\u001b[49m\u001b[38;5;241;43m.\u001b[39;49m\u001b[43mpos\u001b[49m\u001b[43m \u001b[49m\u001b[38;5;241;43m==\u001b[39;49m\u001b[43m \u001b[49m\u001b[43mi\u001b[49m:\n\u001b[0;32m     36\u001b[0m             \u001b[38;5;28;01mreturn\u001b[39;00m \u001b[38;5;28;01mFalse\u001b[39;00m\n\u001b[0;32m     37\u001b[0m         \u001b[38;5;28;01melse\u001b[39;00m:\n",
      "\u001b[1;31mKeyboardInterrupt\u001b[0m: "
     ]
    }
   ],
   "source": [
    "sps = None\n",
    "ppss = []\n",
    "\n",
    "for bits in nalus_ba:\n",
    "    bs = h264.BitStream(bits)\n",
    "    params = {\"forbidden_zero_bit\" : bs.f(1),\n",
    "              \"nal_ref_idc\" : bs.u(2),\n",
    "              \"nal_unit_type\" : bs.u(5)}\n",
    "\n",
    "    print(params)\n",
    "\n",
    "    nalu = h264.NALUnit(bs, params)\n",
    "    print(bs)\n",
    "\n",
    "    if params[\"nal_unit_type\"] == 7: # SPS\n",
    "        sps = h264.SPS(bs)\n",
    "        print(sps)\n",
    "    elif params[\"nal_unit_type\"] == 8: # PPS\n",
    "        pps = h264.PPS(bs)\n",
    "        print(pps)\n",
    "        ppss.append(pps)\n",
    "    elif params[\"nal_unit_type\"] == 6: # SEI\n",
    "        pass\n",
    "    elif params[\"nal_unit_type\"] in [1, 5]:\n",
    "        slice = h264.Slice(bs, sps, ppss, params)"
   ]
  }
 ],
 "metadata": {
  "kernelspec": {
   "display_name": "thinkdsp",
   "language": "python",
   "name": "python3"
  },
  "language_info": {
   "codemirror_mode": {
    "name": "ipython",
    "version": 3
   },
   "file_extension": ".py",
   "mimetype": "text/x-python",
   "name": "python",
   "nbconvert_exporter": "python",
   "pygments_lexer": "ipython3",
   "version": "3.10.14"
  }
 },
 "nbformat": 4,
 "nbformat_minor": 2
}
