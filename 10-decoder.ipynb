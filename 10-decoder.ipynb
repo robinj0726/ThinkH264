{
 "cells": [
  {
   "cell_type": "code",
   "execution_count": 1,
   "metadata": {},
   "outputs": [],
   "source": [
    "import bitstring\n",
    "from h264 import H264BitStream"
   ]
  },
  {
   "cell_type": "code",
   "execution_count": 2,
   "metadata": {},
   "outputs": [],
   "source": [
    "with open(\"./samples/baseline.264\", \"rb\") as input_file:\n",
    "    nalus_ba = list(bitstring.BitStream(input_file).split('0x000001', bytealigned=True))[1:]\n"
   ]
  },
  {
   "cell_type": "code",
   "execution_count": 3,
   "metadata": {},
   "outputs": [
    {
     "name": "stdout",
     "output_type": "stream",
     "text": [
      "BitStream(data:<0x6742c00bd902c4e8400000004000000c83c50a9200>)\n",
      "NALU(forbidden_zero_bit=0, nal_ref_idc=3, nal_unit_type=7)\n",
      "<h264.sps.SPS object at 0x000001ECC123F730>\n",
      "BitStream(data:<0x68cb83cb20>)\n",
      "NALU(forbidden_zero_bit=0, nal_ref_idc=3, nal_unit_type=8)\n"
     ]
    },
    {
     "ename": "AttributeError",
     "evalue": "'BitStream' object has no attribute 'sps'",
     "output_type": "error",
     "traceback": [
      "\u001b[1;31m---------------------------------------------------------------------------\u001b[0m",
      "\u001b[1;31mAttributeError\u001b[0m                            Traceback (most recent call last)",
      "Cell \u001b[1;32mIn[3], line 5\u001b[0m\n\u001b[0;32m      3\u001b[0m \u001b[38;5;28mprint\u001b[39m(h264_bs)\n\u001b[0;32m      4\u001b[0m \u001b[38;5;28mprint\u001b[39m(h264_bs\u001b[38;5;241m.\u001b[39mnalu)\n\u001b[1;32m----> 5\u001b[0m \u001b[38;5;28mprint\u001b[39m(\u001b[43mh264_bs\u001b[49m\u001b[38;5;241;43m.\u001b[39;49m\u001b[43msps\u001b[49m)\n",
      "\u001b[1;31mAttributeError\u001b[0m: 'BitStream' object has no attribute 'sps'"
     ]
    }
   ],
   "source": [
    "for bits in nalus_ba:\n",
    "    h264_bs = H264BitStream(bits)\n",
    "    print(h264_bs)\n",
    "    print(h264_bs.nalu)\n",
    "    print(h264_bs.sps)\n",
    "    break\n"
   ]
  }
 ],
 "metadata": {
  "kernelspec": {
   "display_name": "thinkdsp",
   "language": "python",
   "name": "python3"
  },
  "language_info": {
   "codemirror_mode": {
    "name": "ipython",
    "version": 3
   },
   "file_extension": ".py",
   "mimetype": "text/x-python",
   "name": "python",
   "nbconvert_exporter": "python",
   "pygments_lexer": "ipython3",
   "version": "3.10.14"
  }
 },
 "nbformat": 4,
 "nbformat_minor": 2
}
