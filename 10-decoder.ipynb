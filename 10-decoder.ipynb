{
 "cells": [
  {
   "cell_type": "code",
   "execution_count": 1,
   "metadata": {},
   "outputs": [],
   "source": [
    "import bitstring\n",
    "from h264 import H264BitStream, NALUnit, SPS, PPS"
   ]
  },
  {
   "cell_type": "code",
   "execution_count": 2,
   "metadata": {},
   "outputs": [],
   "source": [
    "with open(\"./samples/baseline.264\", \"rb\") as input_file:\n",
    "    nalus_ba = list(bitstring.BitStream(input_file).split('0x000001', bytealigned=True))[1:]\n"
   ]
  },
  {
   "cell_type": "code",
   "execution_count": 3,
   "metadata": {},
   "outputs": [
    {
     "name": "stdout",
     "output_type": "stream",
     "text": [
      "BitStream(data:<0x6742c00bd902c4e8400000004000000c83c50a9200>)\n",
      "NALU(forbidden_zero_bit=0, nal_ref_idc=3, nal_unit_type=7)\n",
      "BitStream(data:<0x68cb83cb20>)\n",
      "NALU(forbidden_zero_bit=0, nal_ref_idc=3, nal_unit_type=8)\n",
      "PPS(pic_parameter_set_id=0, seq_parameter_set_id=0, entropy_coding_mode_flag=0, bottom_field_pic_order_in_frame_present_flag=0, num_slice_groups_minus1=0, num_ref_idx_l0_default_active_minus1=2, num_ref_idx_l1_default_active_minus1=0, weighted_pred_flag=0, weighted_bipred_idc=0, pic_init_qp_minus26=-3, pic_init_qs_minus26=0, chroma_qp_index_offset=-2, deblocking_filter_control_present_flag=1, constrained_intra_pred_flag=0, redundant_pic_cnt_present_flag=0, rbsp_stop_one_bit=1)\n",
      "BitStream(data:<0x0605ffff6ddc45e9bde6d948b7962cd820d923eeef78323634202d20636f7265203134382072323639392061356530366239202d20482e3236342f4d5045472d342041564320636f646563202d20436f70796c65667420323030332d32303136202d20687474703a2f2f7777772e766964656f6c616e2e6f72672f7832...>)\n",
      "NALU(forbidden_zero_bit=0, nal_ref_idc=0, nal_unit_type=6)\n",
      "BitStream(data:<0x658884087c41c45e040fbbf0031c63dd53d4a1fde892ea3b0b62fe7c9c327ce9b6e15234897500b8c2fe108e931af979c08ccf08fa4d4e9abf54697960724181546d27cb9c0829d46272ff8fdddde729670b6d3dc0b53d0b2c852f6f7c155d81823de200e4cdc6462a47c6406b49dce483962b8d1fa6edf0330c245d0f...>)\n",
      "NALU(forbidden_zero_bit=0, nal_ref_idc=3, nal_unit_type=5)\n",
      "BitStream(data:<0x419a3812e69fae0b87f260be6c6a19d57f96ba5e5fc8bfdf74d72a2df26259d55f97ac4dd562e5957d7aa0bc718b3625d608440b21a979ecf7d606038bb4d7a97d1e0b4a6c432eb088993f24a35efa72c2229a13813dc2da9fcb9078fcbe2092c40bf09a1477777b45cf04e50a1527146ee734cf9777bdb6858e142855...>)\n",
      "NALU(forbidden_zero_bit=0, nal_ref_idc=2, nal_unit_type=1)\n",
      "BitStream(data:<0x419a5405bc9fdf9d021e1e72b7cbfb77ffff9d73eb1509c9d564fbf09f294fa04a298b7a57bc8ebc4e12297e33db7e55d451eeeefc768be0afe3e41c314cb391d5b225f7fcf51642def5609d1b8ef87bce1b828e5a5a3e57b108805030b515f20b9f0b7cd4ebe529491d2c5ddd34202d425a93fb4f5b307c280a3897f7...>)\n",
      "NALU(forbidden_zero_bit=0, nal_ref_idc=2, nal_unit_type=1)\n"
     ]
    }
   ],
   "source": [
    "sps = None\n",
    "ppss = []\n",
    "\n",
    "for bits in nalus_ba:\n",
    "    h264_bs = H264BitStream(bits)\n",
    "    print(h264_bs)\n",
    "\n",
    "    nalu = NALUnit(h264_bs)\n",
    "    print(nalu)\n",
    "\n",
    "    if nalu.nal_unit_type == 7: # SPS\n",
    "        sps = SPS(h264_bs)\n",
    "        print(sps)\n",
    "    elif nalu.nal_unit_type == 8: # PPS\n",
    "        pps = PPS(h264_bs)\n",
    "        print(pps)\n",
    "        ppss.append(pps)\n"
   ]
  }
 ],
 "metadata": {
  "kernelspec": {
   "display_name": "thinkdsp",
   "language": "python",
   "name": "python3"
  },
  "language_info": {
   "codemirror_mode": {
    "name": "ipython",
    "version": 3
   },
   "file_extension": ".py",
   "mimetype": "text/x-python",
   "name": "python",
   "nbconvert_exporter": "python",
   "pygments_lexer": "ipython3",
   "version": "3.10.14"
  }
 },
 "nbformat": 4,
 "nbformat_minor": 2
}
